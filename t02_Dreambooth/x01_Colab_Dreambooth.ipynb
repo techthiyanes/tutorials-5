{
  "cells": [
    {
      "cell_type": "markdown",
      "metadata": {
        "id": "D_jAYfxEcc9h"
      },
      "source": [
        "### Install Runhouse"
      ]
    },
    {
      "cell_type": "code",
      "execution_count": null,
      "metadata": {
        "id": "4nmEjtRsb3Ok"
      },
      "outputs": [],
      "source": [
        "!pip install runhouse"
      ]
    },
    {
      "cell_type": "code",
      "execution_count": null,
      "metadata": {
        "id": "G1hPCDiHeSkl"
      },
      "outputs": [],
      "source": [
        "import runhouse as rh"
      ]
    },
    {
      "cell_type": "markdown",
      "metadata": {
        "id": "2_WFF9nyRtCB"
      },
      "source": [
        "### Login to Runhouse to load in secrets."
      ]
    },
    {
      "cell_type": "code",
      "execution_count": null,
      "metadata": {
        "id": "5UnHVWUYplGV"
      },
      "outputs": [],
      "source": [
        "# You can add token=<your token> if you want to be able to run this without pasting into stdin\n",
        "rh.login(download_secrets=True, download_config=True, interactive=True)"
      ]
    },
    {
      "cell_type": "code",
      "execution_count": null,
      "metadata": {
        "id": "3G8NcBOUF4sb"
      },
      "outputs": [],
      "source": [
        "# Only if you're using GCP and running inside Colab!\n",
        "!gcloud init\n",
        "!gcloud auth application-default login\n",
        "!cp -r /content/.config/* ~/.config/gcloud"
      ]
    },
    {
      "cell_type": "code",
      "execution_count": null,
      "metadata": {
        "id": "0s_uGZSssCrV"
      },
      "outputs": [],
      "source": [
        "# Check that secrets are loaded in properly and at least one cloud is ready to use.\n",
        "!sky check"
      ]
    },
    {
      "cell_type": "markdown",
      "source": [
        "# Dreambooth Training\n",
        "\n",
        "Start by creating our training service."
      ],
      "metadata": {
        "id": "wKD0hd_DIlbF"
      }
    },
    {
      "cell_type": "code",
      "source": [
        "gpu = rh.cluster(name='rh-a10x', instance_type='A100:1')  # On GCP and Azure\n",
        "# gpu = rh.cluster(name='rh-a10x', instance_type='g5.2xlarge', provider='aws')  # On AWS\n",
        "\n",
        "training_function_gpu = rh.send(\n",
        "    fn='https://github.com/huggingface/diffusers/blob/main/examples/dreambooth/train_dreambooth.py:main',\n",
        "    hardware=gpu,\n",
        "    reqs=['pip:./diffusers',\n",
        "          'torch --upgrade --extra-index-url https://download.pytorch.org/whl/cu116',\n",
        "          'torchvision --upgrade --extra-index-url https://download.pytorch.org/whl/cu116', \n",
        "          'transformers', 'accelerate', 'datasets'],\n",
        "    name='train_dreambooth')\n",
        "gpu.run_python(['import torch; torch.backends.cuda.matmul.allow_tf32 = True; '\n",
        "                'torch.backends.cuda.matmul.allow_fp16_reduced_precision_reduction = True'])"
      ],
      "metadata": {
        "id": "j6yIxheMIm_x",
        "colab": {
          "base_uri": "https://localhost:8080/",
          "height": 109,
          "referenced_widgets": [
            "e6b0fccd33864f95814f322c983c4d65",
            "640c080ba42e435b84e0160c97ef8588"
          ]
        },
        "outputId": "1f94ccff-3d49-420c-ea77-e73ed51a1558"
      },
      "execution_count": 12,
      "outputs": [
        {
          "output_type": "display_data",
          "data": {
            "text/plain": [
              "Output()"
            ],
            "application/vnd.jupyter.widget-view+json": {
              "version_major": 2,
              "version_minor": 0,
              "model_id": "e6b0fccd33864f95814f322c983c4d65"
            }
          },
          "metadata": {}
        },
        {
          "output_type": "display_data",
          "data": {
            "text/plain": [],
            "text/html": [
              "<pre style=\"white-space:pre;overflow-x:auto;line-height:normal;font-family:Menlo,'DejaVu Sans Mono',consolas,'Courier New',monospace\"></pre>\n"
            ]
          },
          "metadata": {}
        },
        {
          "output_type": "display_data",
          "data": {
            "text/plain": [
              "\n"
            ],
            "text/html": [
              "<pre style=\"white-space:pre;overflow-x:auto;line-height:normal;font-family:Menlo,'DejaVu Sans Mono',consolas,'Courier New',monospace\">\n",
              "</pre>\n"
            ]
          },
          "metadata": {}
        },
        {
          "output_type": "stream",
          "name": "stdout",
          "text": [
            "INFO | 2023-01-19 03:45:48,201 | Setting up Send on cluster.\n",
            "INFO | 2023-01-19 03:45:59,213 | Installing packages on cluster rh-a10x: ['GitPackage: https://github.com/huggingface/diffusers.git@main', 'pip:./diffusers', 'torch --upgrade --extra-index-url https://download.pytorch.org/whl/cu116', 'torchvision --upgrade --extra-index-url https://download.pytorch.org/whl/cu116', 'transformers', 'accelerate', 'datasets']\n",
            "INFO | 2023-01-19 03:46:04,426 | Send setup complete.\n",
            "INFO | 2023-01-19 03:46:04,442 | Running command on rh-a10x: python3 -c \"import torch; torch.backends.cuda.matmul.allow_tf32 = True; torch.backends.cuda.matmul.allow_fp16_reduced_precision_reduction = True\"\n"
          ]
        }
      ]
    },
    {
      "cell_type": "markdown",
      "source": [
        "Next, we need to upload some images. You want 10-20 images, as close to 512x512 as possible."
      ],
      "metadata": {
        "id": "EcmMCigxFqKz"
      }
    },
    {
      "cell_type": "code",
      "source": [
        "from google.colab import files\n",
        "import shutil\n",
        "from pathlib import Path\n",
        "\n",
        "uploaded = files.upload()"
      ],
      "metadata": {
        "id": "MFPJH1XxFpt9"
      },
      "execution_count": null,
      "outputs": []
    },
    {
      "cell_type": "markdown",
      "source": [
        "Now we'll send those images to our cluster."
      ],
      "metadata": {
        "id": "lIy3LqIQFsrD"
      }
    },
    {
      "cell_type": "code",
      "source": [
        "input_images_dir = 'instance_images'\n",
        "images_path = Path(input_images_dir)\n",
        "images_path.mkdir(exist_ok=True)\n",
        "\n",
        "for filename in uploaded.keys():\n",
        "  shutil.move(filename, images_path / filename)"
      ],
      "metadata": {
        "id": "q6WY6HFZFuZ8"
      },
      "execution_count": 4,
      "outputs": []
    },
    {
      "cell_type": "code",
      "source": [
        "remote_image_dir = 'dreambooth/instance_images'\n",
        "rh.folder(url=input_images_dir).to(fs=gpu, url=remote_image_dir)"
      ],
      "metadata": {
        "colab": {
          "base_uri": "https://localhost:8080/"
        },
        "id": "NVPlIhZwDJ45",
        "outputId": "6cae9874-5c13-45f9-a468-0686414da2ed"
      },
      "execution_count": 10,
      "outputs": [
        {
          "output_type": "stream",
          "name": "stdout",
          "text": [
            "INFO | 2023-01-19 03:43:54,407 | Copying folder from file:///content/instance_images to rh-a10x://dreambooth/instance_images\n"
          ]
        },
        {
          "output_type": "execute_result",
          "data": {
            "text/plain": [
              "<runhouse.rns.folders.folder.Folder at 0x7f1ba765ff40>"
            ]
          },
          "metadata": {},
          "execution_count": 10
        }
      ]
    },
    {
      "cell_type": "markdown",
      "source": [
        "Now we'll generate the arguments into the training function (and call this function on the cluster to avoid having to clone it down locally)."
      ],
      "metadata": {
        "id": "kSDY8azOFzk1"
      }
    },
    {
      "cell_type": "code",
      "source": [
        "class_name = 'person'\n",
        "create_train_args = rh.send(\n",
        "    fn='https://github.com/huggingface/diffusers/blob/main/examples/dreambooth/train_dreambooth.py:parse_args',\n",
        "    hardware=gpu, reqs=[])\n",
        "train_args = create_train_args(input_args=['--pretrained_model_name_or_path', 'stabilityai/stable-diffusion-2-base',\n",
        "                                            '--instance_data_dir', remote_image_dir,\n",
        "                                            '--instance_prompt', f'a photo of sks {class_name}'])\n",
        "train_args.train_text_encoder = True\n",
        "train_args.class_data_dir = 'dreambooth/class_images'\n",
        "train_args.output_dir = 'dreambooth/output'\n",
        "train_args.mixed_precision = 'bf16'\n",
        "train_args.with_prior_preservation = True\n",
        "train_args.prior_loss_weight = 1.0\n",
        "train_args.class_prompt = f\"a photo of {class_name}\"\n",
        "train_args.resolution = 512\n",
        "train_args.train_batch_size = 4\n",
        "train_args.gradient_checkpointing = True\n",
        "train_args.learning_rate = 1e-6\n",
        "train_args.lr_scheduler = \"constant\"\n",
        "train_args.lr_warmup_steps = 0\n",
        "train_args.num_class_images = 200\n",
        "train_args.checkpointing_steps = 400\n",
        "# train_args.resume_from_checkpoint = 'latest'\n",
        "train_args.max_train_steps = 800"
      ],
      "metadata": {
        "id": "DCazU_tzFyr9",
        "colab": {
          "base_uri": "https://localhost:8080/"
        },
        "outputId": "916025e3-f51b-4371-fc4b-ec7b9dff49eb"
      },
      "execution_count": 17,
      "outputs": [
        {
          "output_type": "stream",
          "name": "stdout",
          "text": [
            "INFO | 2023-01-19 03:57:20,531 | Setting up Send on cluster.\n",
            "INFO | 2023-01-19 03:57:20,534 | Installing packages on cluster rh-a10x: ['GitPackage: https://github.com/huggingface/diffusers.git@main']\n",
            "INFO | 2023-01-19 03:57:20,589 | Send setup complete.\n",
            "INFO | 2023-01-19 03:57:20,595 | Running anonymous send via SSH\n",
            "INFO | 2023-01-19 03:57:20,695 | Time to send message: 0.1 seconds\n"
          ]
        }
      ]
    },
    {
      "cell_type": "markdown",
      "source": [
        "And initiate training. This takes around 20 minutes to run."
      ],
      "metadata": {
        "id": "m_ChQERQGC9v"
      }
    },
    {
      "cell_type": "code",
      "source": [
        "training_function_gpu(train_args)"
      ],
      "metadata": {
        "id": "SxpLzmqaGEON",
        "colab": {
          "base_uri": "https://localhost:8080/"
        },
        "outputId": "99cbcbce-f499-4b3a-d6ec-59e0ee6be878"
      },
      "execution_count": 22,
      "outputs": [
        {
          "output_type": "stream",
          "name": "stdout",
          "text": [
            "INFO | 2023-01-19 04:04:49,255 | Running train_dreambooth via SSH\n",
            "INFO | 2023-01-19 04:20:54,106 | Time to send message: 964.85 seconds\n"
          ]
        }
      ]
    },
    {
      "cell_type": "markdown",
      "source": [
        "# Inference\n",
        "\n",
        "Now we can use our existing Stable Diffusion service to run inferences on this model:"
      ],
      "metadata": {
        "id": "T6V06o3CKMO-"
      }
    },
    {
      "cell_type": "code",
      "source": [
        "generate_gpu = rh.send(name='sd_generate')"
      ],
      "metadata": {
        "id": "j9XWAhcJKdBL",
        "colab": {
          "base_uri": "https://localhost:8080/",
          "height": 161,
          "referenced_widgets": [
            "98f0176fa7054309a2a8e0a16248c143",
            "0e93084377f44b8c9191e89719c15c76"
          ]
        },
        "outputId": "e6226407-94c2-478c-a13d-9c9dbb81bae6"
      },
      "execution_count": 23,
      "outputs": [
        {
          "output_type": "stream",
          "name": "stdout",
          "text": [
            "W 01-19 04:21:22 backend_utils.py:434] ~/.ssh/config contains host named rh-a10x.\n",
            "WARNING | 2023-01-19 04:21:22,125 | ~/.ssh/config contains host named rh-a10x.\n",
            "W 01-19 04:21:22 backend_utils.py:437] Using 34.70.45.62 to identify host instead.\n",
            "WARNING | 2023-01-19 04:21:22,132 | Using 34.70.45.62 to identify host instead.\n"
          ]
        },
        {
          "output_type": "display_data",
          "data": {
            "text/plain": [
              "Output()"
            ],
            "application/vnd.jupyter.widget-view+json": {
              "version_major": 2,
              "version_minor": 0,
              "model_id": "98f0176fa7054309a2a8e0a16248c143"
            }
          },
          "metadata": {}
        },
        {
          "output_type": "display_data",
          "data": {
            "text/plain": [],
            "text/html": [
              "<pre style=\"white-space:pre;overflow-x:auto;line-height:normal;font-family:Menlo,'DejaVu Sans Mono',consolas,'Courier New',monospace\"></pre>\n"
            ]
          },
          "metadata": {}
        },
        {
          "output_type": "display_data",
          "data": {
            "text/plain": [
              "\n"
            ],
            "text/html": [
              "<pre style=\"white-space:pre;overflow-x:auto;line-height:normal;font-family:Menlo,'DejaVu Sans Mono',consolas,'Courier New',monospace\">\n",
              "</pre>\n"
            ]
          },
          "metadata": {}
        },
        {
          "output_type": "stream",
          "name": "stdout",
          "text": [
            "INFO | 2023-01-19 04:21:37,323 | Setting up Send on cluster.\n",
            "INFO | 2023-01-19 04:21:48,329 | Copying local package content to cluster <rh-a10x>\n",
            "INFO | 2023-01-19 04:21:50,312 | Installing packages on cluster rh-a10x: ['./']\n",
            "INFO | 2023-01-19 04:21:51,621 | Send setup complete.\n"
          ]
        }
      ]
    },
    {
      "cell_type": "code",
      "source": [
        "model_path = 'dreambooth/output'\n",
        "my_prompt = f'A highly detailed photograph of sks {class_name} scuba diving in the great barrier reef'\n",
        "my_prompt = f'A highly detailed photograph of sks {class_name} as Luke Skywalker in a lightsaber battle against Darth Vader, detailed symmetric face, trending'\n",
        "my_prompt = f'A highly detailed photograph of sks {class_name} as Captain America on an Army recruitment poster, detailed symmetric face'\n",
        "my_prompt = f'sks {class_name} in a turtleneck on the cover of Vogue magazine, detailed symmetric face'\n",
        "images = generate_gpu(my_prompt,\n",
        "                      model_id=model_path,\n",
        "                      num_images=4, guidance_scale=10,\n",
        "                      steps=100)"
      ],
      "metadata": {
        "id": "oXdp1NzHKlxZ",
        "colab": {
          "base_uri": "https://localhost:8080/"
        },
        "outputId": "f247fbf8-2e05-45de-8301-273089b02816"
      },
      "execution_count": 182,
      "outputs": [
        {
          "output_type": "stream",
          "name": "stdout",
          "text": [
            "INFO | 2023-01-19 05:16:29,815 | Running sd_generate via SSH\n",
            "INFO | 2023-01-19 05:16:39,393 | Time to send message: 9.57 seconds\n"
          ]
        }
      ]
    },
    {
      "cell_type": "code",
      "source": [
        "[display(image) for image in images]"
      ],
      "metadata": {
        "id": "8jUmi71SKmj3"
      },
      "execution_count": null,
      "outputs": []
    }
  ],
  "metadata": {
    "colab": {
      "provenance": []
    },
    "kernelspec": {
      "display_name": "Python 3 (ipykernel)",
      "language": "python",
      "name": "python3"
    },
    "language_info": {
      "codemirror_mode": {
        "name": "ipython",
        "version": 3
      },
      "file_extension": ".py",
      "mimetype": "text/x-python",
      "name": "python",
      "nbconvert_exporter": "python",
      "pygments_lexer": "ipython3",
      "version": "3.9.15"
    },
    "widgets": {
      "application/vnd.jupyter.widget-state+json": {
        "e6b0fccd33864f95814f322c983c4d65": {
          "model_module": "@jupyter-widgets/output",
          "model_name": "OutputModel",
          "model_module_version": "1.0.0",
          "state": {
            "_dom_classes": [],
            "_model_module": "@jupyter-widgets/output",
            "_model_module_version": "1.0.0",
            "_model_name": "OutputModel",
            "_view_count": null,
            "_view_module": "@jupyter-widgets/output",
            "_view_module_version": "1.0.0",
            "_view_name": "OutputView",
            "layout": "IPY_MODEL_640c080ba42e435b84e0160c97ef8588",
            "msg_id": "",
            "outputs": [
              {
                "output_type": "display_data",
                "data": {
                  "text/plain": "\u001b[1;36mRefreshing status for 1 cluster\u001b[0m \u001b[38;5;237m━━━━━━━━━━━━━━━━━━━━━━━━━━━━━━━━━━━━━━━━\u001b[0m \u001b[35m  0%\u001b[0m \u001b[36m-:--:--\u001b[0m\n",
                  "text/html": "<pre style=\"white-space:pre;overflow-x:auto;line-height:normal;font-family:Menlo,'DejaVu Sans Mono',consolas,'Courier New',monospace\"><span style=\"color: #008080; text-decoration-color: #008080; font-weight: bold\">Refreshing status for 1 cluster</span> <span style=\"color: #3a3a3a; text-decoration-color: #3a3a3a\">━━━━━━━━━━━━━━━━━━━━━━━━━━━━━━━━━━━━━━━━</span> <span style=\"color: #800080; text-decoration-color: #800080\">  0%</span> <span style=\"color: #008080; text-decoration-color: #008080\">-:--:--</span>\n</pre>\n"
                },
                "metadata": {}
              }
            ]
          }
        },
        "640c080ba42e435b84e0160c97ef8588": {
          "model_module": "@jupyter-widgets/base",
          "model_name": "LayoutModel",
          "model_module_version": "1.2.0",
          "state": {
            "_model_module": "@jupyter-widgets/base",
            "_model_module_version": "1.2.0",
            "_model_name": "LayoutModel",
            "_view_count": null,
            "_view_module": "@jupyter-widgets/base",
            "_view_module_version": "1.2.0",
            "_view_name": "LayoutView",
            "align_content": null,
            "align_items": null,
            "align_self": null,
            "border": null,
            "bottom": null,
            "display": null,
            "flex": null,
            "flex_flow": null,
            "grid_area": null,
            "grid_auto_columns": null,
            "grid_auto_flow": null,
            "grid_auto_rows": null,
            "grid_column": null,
            "grid_gap": null,
            "grid_row": null,
            "grid_template_areas": null,
            "grid_template_columns": null,
            "grid_template_rows": null,
            "height": null,
            "justify_content": null,
            "justify_items": null,
            "left": null,
            "margin": null,
            "max_height": null,
            "max_width": null,
            "min_height": null,
            "min_width": null,
            "object_fit": null,
            "object_position": null,
            "order": null,
            "overflow": null,
            "overflow_x": null,
            "overflow_y": null,
            "padding": null,
            "right": null,
            "top": null,
            "visibility": null,
            "width": null
          }
        },
        "98f0176fa7054309a2a8e0a16248c143": {
          "model_module": "@jupyter-widgets/output",
          "model_name": "OutputModel",
          "model_module_version": "1.0.0",
          "state": {
            "_dom_classes": [],
            "_model_module": "@jupyter-widgets/output",
            "_model_module_version": "1.0.0",
            "_model_name": "OutputModel",
            "_view_count": null,
            "_view_module": "@jupyter-widgets/output",
            "_view_module_version": "1.0.0",
            "_view_name": "OutputView",
            "layout": "IPY_MODEL_0e93084377f44b8c9191e89719c15c76",
            "msg_id": "",
            "outputs": [
              {
                "output_type": "display_data",
                "data": {
                  "text/plain": "\u001b[1;36mRefreshing status for 1 cluster\u001b[0m \u001b[38;5;237m━━━━━━━━━━━━━━━━━━━━━━━━━━━━━━━━━━━━━━━━\u001b[0m \u001b[35m  0%\u001b[0m \u001b[36m-:--:--\u001b[0m\n",
                  "text/html": "<pre style=\"white-space:pre;overflow-x:auto;line-height:normal;font-family:Menlo,'DejaVu Sans Mono',consolas,'Courier New',monospace\"><span style=\"color: #008080; text-decoration-color: #008080; font-weight: bold\">Refreshing status for 1 cluster</span> <span style=\"color: #3a3a3a; text-decoration-color: #3a3a3a\">━━━━━━━━━━━━━━━━━━━━━━━━━━━━━━━━━━━━━━━━</span> <span style=\"color: #800080; text-decoration-color: #800080\">  0%</span> <span style=\"color: #008080; text-decoration-color: #008080\">-:--:--</span>\n</pre>\n"
                },
                "metadata": {}
              }
            ]
          }
        },
        "0e93084377f44b8c9191e89719c15c76": {
          "model_module": "@jupyter-widgets/base",
          "model_name": "LayoutModel",
          "model_module_version": "1.2.0",
          "state": {
            "_model_module": "@jupyter-widgets/base",
            "_model_module_version": "1.2.0",
            "_model_name": "LayoutModel",
            "_view_count": null,
            "_view_module": "@jupyter-widgets/base",
            "_view_module_version": "1.2.0",
            "_view_name": "LayoutView",
            "align_content": null,
            "align_items": null,
            "align_self": null,
            "border": null,
            "bottom": null,
            "display": null,
            "flex": null,
            "flex_flow": null,
            "grid_area": null,
            "grid_auto_columns": null,
            "grid_auto_flow": null,
            "grid_auto_rows": null,
            "grid_column": null,
            "grid_gap": null,
            "grid_row": null,
            "grid_template_areas": null,
            "grid_template_columns": null,
            "grid_template_rows": null,
            "height": null,
            "justify_content": null,
            "justify_items": null,
            "left": null,
            "margin": null,
            "max_height": null,
            "max_width": null,
            "min_height": null,
            "min_width": null,
            "object_fit": null,
            "object_position": null,
            "order": null,
            "overflow": null,
            "overflow_x": null,
            "overflow_y": null,
            "padding": null,
            "right": null,
            "top": null,
            "visibility": null,
            "width": null
          }
        }
      }
    }
  },
  "nbformat": 4,
  "nbformat_minor": 0
}